{
 "cells": [
  {
   "cell_type": "code",
   "execution_count": 1,
   "metadata": {},
   "outputs": [],
   "source": [
    "import pandas as pd\n",
    "\n",
    "df = pd.read_csv('redditdataset.txt', sep='\\t', lineterminator='\\n',header = None)\n",
    "size = len(df)"
   ]
  },
  {
   "cell_type": "code",
   "execution_count": 2,
   "metadata": {},
   "outputs": [],
   "source": [
    "df.columns = ['v1', 'v2', 'timestamp']"
   ]
  },
  {
   "cell_type": "code",
   "execution_count": 3,
   "metadata": {},
   "outputs": [],
   "source": [
    "df1 = df.head(3*size // 4)"
   ]
  },
  {
   "cell_type": "code",
   "execution_count": 4,
   "metadata": {},
   "outputs": [],
   "source": [
    "df2 = df.tail(1*size // 4 + 1)"
   ]
  },
  {
   "cell_type": "code",
   "execution_count": 5,
   "metadata": {},
   "outputs": [],
   "source": [
    "from collections import defaultdict\n",
    "all_connections = defaultdict(list)\n",
    "for index, row in df1.iterrows():\n",
    "        all_connections[row[\"v1\"]].append((row[\"v2\"], row[\"timestamp\"]))"
   ]
  },
  {
   "cell_type": "code",
   "execution_count": 6,
   "metadata": {},
   "outputs": [],
   "source": [
    "all_connections_test = defaultdict(list)\n",
    "for index, row in df2.iterrows():\n",
    "    if row[\"v1\"] not in all_connections:\n",
    "        all_connections_test[row[\"v1\"]].append((row[\"v2\"], row[\"timestamp\"]))\n",
    "    else:\n",
    "        all_connections[row[\"v1\"]].append((row[\"v2\"], row[\"timestamp\"]))"
   ]
  },
  {
   "cell_type": "code",
   "execution_count": 10,
   "metadata": {},
   "outputs": [],
   "source": [
    "cold_dict = defaultdict(list)\n",
    "for index, row in df1.iterrows():\n",
    "    cold_dict[row[\"v2\"]].append((row[\"v1\"], row[\"timestamp\"]))"
   ]
  },
  {
   "cell_type": "code",
   "execution_count": 9,
   "metadata": {},
   "outputs": [
    {
     "name": "stdout",
     "output_type": "stream",
     "text": [
      "162.39753671499892\n",
      "25.911766419557374\n",
      "11.47155320625007\n"
     ]
    }
   ],
   "source": [
    "from random import sample\n",
    "j_hyp = 0.0\n",
    "j_rand = 0.0\n",
    "conn_avg = 0.0\n",
    "# key is the cold start node in question\n",
    "for key in all_connections_test:\n",
    "    try:\n",
    "        #val is the first node it connects with (the list in all_connections_test is sorted by timestamp)\n",
    "        val = all_connections_test[key][0][0]\n",
    "    except:\n",
    "        continue\n",
    "    #the list of nodes key actually connects with after cold starting\n",
    "    ground_truth = [elem[0] for elem in all_connections_test[key]]\n",
    "    try:\n",
    "        # for the last thing that cold started with val, what else did it connect with?\n",
    "        hyp = [elem[0] for elem in all_connections[all_connections[val][-1][0]]]\n",
    "    except:\n",
    "        continue\n",
    "    #print(ground_truth , hyp)\n",
    "    l = lambda x, y : x if x < y else y\n",
    "    conn_avg += (len(hyp) / len(all_connections[val]))\n",
    "    rand = sample([elem[0] for elem in all_connections[val]], l(len(hyp),len(all_connections[val])))\n",
    "    j_hyp+= jaccard_similarity(ground_truth, hyp)\n",
    "    j_rand+= jaccard_similarity(ground_truth, rand)\n",
    "    \n",
    "print(j_hyp)\n",
    "print(j_rand)\n",
    "print(conn_avg / len(all_connections_test.keys()))"
   ]
  },
  {
   "cell_type": "code",
   "execution_count": 44,
   "metadata": {
    "scrolled": false
   },
   "outputs": [
    {
     "data": {
      "text/plain": [
       "set()"
      ]
     },
     "execution_count": 44,
     "metadata": {},
     "output_type": "execute_result"
    }
   ],
   "source": [
    "set(all_connections_test.keys()).intersection(set(all_connections.keys()))"
   ]
  },
  {
   "cell_type": "code",
   "execution_count": 8,
   "metadata": {},
   "outputs": [],
   "source": [
    "def jaccard_similarity(list1, list2):\n",
    "    intersection = len(list(set(list1).intersection(set(list2))))\n",
    "    union = (len(set(list1)) + len(set(list2))) - intersection\n",
    "    return float(intersection / union)"
   ]
  },
  {
   "cell_type": "code",
   "execution_count": null,
   "metadata": {},
   "outputs": [],
   "source": []
  }
 ],
 "metadata": {
  "kernelspec": {
   "display_name": "Python 3",
   "language": "python",
   "name": "python3"
  },
  "language_info": {
   "codemirror_mode": {
    "name": "ipython",
    "version": 3
   },
   "file_extension": ".py",
   "mimetype": "text/x-python",
   "name": "python",
   "nbconvert_exporter": "python",
   "pygments_lexer": "ipython3",
   "version": "3.7.0"
  }
 },
 "nbformat": 4,
 "nbformat_minor": 2
}
