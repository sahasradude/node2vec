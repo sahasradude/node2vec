{
 "cells": [
  {
   "cell_type": "code",
   "execution_count": 1,
   "metadata": {},
   "outputs": [],
   "source": [
    "import pandas as pd\n",
    "\n",
    "df = pd.read_csv('collegedataset.txt', sep='\\t', lineterminator='\\n',header = None)\n",
    "size = len(df)"
   ]
  },
  {
   "cell_type": "code",
   "execution_count": 2,
   "metadata": {},
   "outputs": [],
   "source": [
    "df.columns = ['v1', 'v2', 'timestamp']"
   ]
  },
  {
   "cell_type": "code",
   "execution_count": 3,
   "metadata": {},
   "outputs": [],
   "source": [
    "df1 = df.head(3*size // 4)"
   ]
  },
  {
   "cell_type": "code",
   "execution_count": 4,
   "metadata": {},
   "outputs": [],
   "source": [
    "df2 = df.tail(1*size // 4 + 1)"
   ]
  },
  {
   "cell_type": "code",
   "execution_count": 5,
   "metadata": {},
   "outputs": [],
   "source": [
    "from collections import defaultdict\n",
    "all_connections = defaultdict(list)\n",
    "for index, row in df1.iterrows():\n",
    "        all_connections[row[\"v1\"]].append((row[\"v2\"], row[\"timestamp\"]))"
   ]
  },
  {
   "cell_type": "code",
   "execution_count": 6,
   "metadata": {},
   "outputs": [],
   "source": [
    "all_connections_test = defaultdict(list)\n",
    "for index, row in df2.iterrows():\n",
    "    if row[\"v1\"] not in all_connections:\n",
    "        all_connections_test[row[\"v1\"]].append((row[\"v2\"], row[\"timestamp\"]))\n",
    "    else:\n",
    "        all_connections[row[\"v1\"]].append((row[\"v2\"], row[\"timestamp\"]))"
   ]
  },
  {
   "cell_type": "code",
   "execution_count": 50,
   "metadata": {},
   "outputs": [],
   "source": [
    "cold_dict = defaultdict(list)\n",
    "for index, row in df1.iterrows():\n",
    "    cold_dict[row[\"v2\"]].append((row[\"v1\"], row[\"timestamp\"]))"
   ]
  },
  {
   "cell_type": "code",
   "execution_count": 53,
   "metadata": {},
   "outputs": [
    {
     "name": "stdout",
     "output_type": "stream",
     "text": [
      "6993.944715506165\n",
      "5463.080751652064\n"
     ]
    }
   ],
   "source": [
    "from random import sample\n",
    "from random import randint\n",
    "\n",
    "j_hyp = 0.0\n",
    "j_rand = 0.0\n",
    "conn_avg = 0.0\n",
    "skip1= 0\n",
    "skip2 = 0\n",
    "# key is the cold start node in question\n",
    "for i in range(1000):\n",
    "    for key in all_connections_test:\n",
    "        try:\n",
    "            #val is the first node it connects with (the list in all_connections_test is sorted by timestamp)\n",
    "            val = all_connections_test[key][0][0]\n",
    "        except:\n",
    "            skip1 +=1\n",
    "            continue\n",
    "        #the list of nodes key actually connects with after cold starting\n",
    "        ground_truth = [elem[0] for elem in all_connections_test[key]]\n",
    "        try:\n",
    "            # for the last thing that cold started with val, what else did it connect with?\n",
    "#             hyp = [elem[0] for elem in all_connections[cold_dict[val][randint(0,len(all_connections[val]))][0]]]\n",
    "            hyp = [elem[0] for elem in all_connections[cold_dict[val][-1][0]]]\n",
    "\n",
    "        except:\n",
    "            skip2+=1\n",
    "            continue\n",
    "        #print(ground_truth , hyp)\n",
    "        l = lambda x, y : x if x < y else y\n",
    "    #     conn_avg += (len(hyp) / len(all_connections[val]))\n",
    "        if len(hyp) > len(all_connections[val]):\n",
    "            conn_avg+=1\n",
    "        rand = sample([elem[0] for elem in all_connections[val]], l(len(all_connections[val]), 1))\n",
    "        if(len(rand) > 0):\n",
    "            rand1 = sample([elem[0] for elem in all_connections[rand[0]]], l(len(hyp),len(all_connections[rand[0]])))\n",
    "        else:\n",
    "            rand1 = []\n",
    "        j_hyp+= jaccard_similarity(ground_truth, hyp)\n",
    "        j_rand+= jaccard_similarity(ground_truth, rand1)\n",
    "    \n",
    "print(j_hyp)\n",
    "print(j_rand)"
   ]
  },
  {
   "cell_type": "code",
   "execution_count": 16,
   "metadata": {
    "scrolled": false
   },
   "outputs": [
    {
     "data": {
      "text/plain": [
       "{361,\n",
       " 812,\n",
       " 1009,\n",
       " 1079,\n",
       " 1175,\n",
       " 1254,\n",
       " 1299,\n",
       " 1355,\n",
       " 1408,\n",
       " 1467,\n",
       " 1475,\n",
       " 1535,\n",
       " 1537,\n",
       " 1557,\n",
       " 1565,\n",
       " 1592,\n",
       " 1608,\n",
       " 1616,\n",
       " 1621,\n",
       " 1624,\n",
       " 1626,\n",
       " 1629,\n",
       " 1641,\n",
       " 1644,\n",
       " 1646,\n",
       " 1647,\n",
       " 1648,\n",
       " 1653,\n",
       " 1655,\n",
       " 1657,\n",
       " 1663,\n",
       " 1667,\n",
       " 1669,\n",
       " 1670,\n",
       " 1675,\n",
       " 1680,\n",
       " 1681,\n",
       " 1688,\n",
       " 1694,\n",
       " 1713,\n",
       " 1721,\n",
       " 1724,\n",
       " 1725,\n",
       " 1734,\n",
       " 1740,\n",
       " 1741,\n",
       " 1742,\n",
       " 1744,\n",
       " 1748,\n",
       " 1749,\n",
       " 1750,\n",
       " 1756,\n",
       " 1758,\n",
       " 1762,\n",
       " 1771,\n",
       " 1772,\n",
       " 1773,\n",
       " 1781,\n",
       " 1783,\n",
       " 1788,\n",
       " 1796,\n",
       " 1797,\n",
       " 1798,\n",
       " 1799,\n",
       " 1801,\n",
       " 1802,\n",
       " 1808,\n",
       " 1811,\n",
       " 1836,\n",
       " 1839,\n",
       " 1859,\n",
       " 1860,\n",
       " 1862,\n",
       " 1864,\n",
       " 1865,\n",
       " 1866,\n",
       " 1868,\n",
       " 1879,\n",
       " 1888,\n",
       " 1897,\n",
       " 1898}"
      ]
     },
     "execution_count": 16,
     "metadata": {},
     "output_type": "execute_result"
    }
   ],
   "source": [
    "set(all_connections_test.keys()).intersection(set(all_connections.keys()))"
   ]
  },
  {
   "cell_type": "code",
   "execution_count": 8,
   "metadata": {},
   "outputs": [],
   "source": [
    "def jaccard_similarity(list1, list2):\n",
    "    intersection = len(list(set(list1).intersection(set(list2))))\n",
    "    union = (len(set(list1)) + len(set(list2))) - intersection\n",
    "    return float(intersection / union)"
   ]
  },
  {
   "cell_type": "code",
   "execution_count": 27,
   "metadata": {},
   "outputs": [
    {
     "data": {
      "text/plain": [
       "{1282: [],\n",
       " 1561: [],\n",
       " 286: [221,\n",
       "  221,\n",
       "  34,\n",
       "  34,\n",
       "  34,\n",
       "  221,\n",
       "  367,\n",
       "  202,\n",
       "  202,\n",
       "  202,\n",
       "  416,\n",
       "  468,\n",
       "  549,\n",
       "  400,\n",
       "  400,\n",
       "  400,\n",
       "  400,\n",
       "  339,\n",
       "  400,\n",
       "  991,\n",
       "  991,\n",
       "  400,\n",
       "  1000],\n",
       " 1896: []}"
      ]
     },
     "execution_count": 27,
     "metadata": {},
     "output_type": "execute_result"
    }
   ],
   "source": [
    "final"
   ]
  },
  {
   "cell_type": "code",
   "execution_count": 28,
   "metadata": {},
   "outputs": [],
   "source": [
    "listofedges = []\n",
    "for inner,innerrow in df2.iterrows():\n",
    "        if(innerrow['v1'] == check):\n",
    "            listofedges.append(innerrow['v2'])"
   ]
  },
  {
   "cell_type": "code",
   "execution_count": 29,
   "metadata": {},
   "outputs": [
    {
     "data": {
      "text/plain": [
       "[221,\n",
       " 1542,\n",
       " 221,\n",
       " 1542,\n",
       " 1542,\n",
       " 1601,\n",
       " 1542,\n",
       " 1601,\n",
       " 1189,\n",
       " 1189,\n",
       " 1647,\n",
       " 1647,\n",
       " 848,\n",
       " 1647,\n",
       " 1713,\n",
       " 1713,\n",
       " 1713,\n",
       " 1713,\n",
       " 1713,\n",
       " 1713,\n",
       " 1647,\n",
       " 1647,\n",
       " 1741,\n",
       " 1543,\n",
       " 1543,\n",
       " 1543,\n",
       " 1543,\n",
       " 1773,\n",
       " 1773]"
      ]
     },
     "execution_count": 29,
     "metadata": {},
     "output_type": "execute_result"
    }
   ],
   "source": [
    "listofedges"
   ]
  },
  {
   "cell_type": "code",
   "execution_count": 30,
   "metadata": {},
   "outputs": [
    {
     "name": "stdout",
     "output_type": "stream",
     "text": [
      "0.0\n",
      "0.0\n",
      "0.05\n",
      "0.0\n"
     ]
    }
   ],
   "source": [
    "for key in final.keys():\n",
    "    sim = jaccard_similarity(final[key],listofedges)\n",
    "    print(sim)"
   ]
  },
  {
   "cell_type": "code",
   "execution_count": 31,
   "metadata": {},
   "outputs": [
    {
     "data": {
      "text/plain": [
       "0.0"
      ]
     },
     "execution_count": 31,
     "metadata": {},
     "output_type": "execute_result"
    }
   ],
   "source": [
    "sim"
   ]
  },
  {
   "cell_type": "code",
   "execution_count": null,
   "metadata": {},
   "outputs": [],
   "source": []
  }
 ],
 "metadata": {
  "kernelspec": {
   "display_name": "Python 3",
   "language": "python",
   "name": "python3"
  },
  "language_info": {
   "codemirror_mode": {
    "name": "ipython",
    "version": 3
   },
   "file_extension": ".py",
   "mimetype": "text/x-python",
   "name": "python",
   "nbconvert_exporter": "python",
   "pygments_lexer": "ipython3",
   "version": "3.7.0"
  }
 },
 "nbformat": 4,
 "nbformat_minor": 2
}
