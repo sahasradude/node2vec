{
 "cells": [
  {
   "cell_type": "code",
   "execution_count": 48,
   "metadata": {},
   "outputs": [],
   "source": [
    "import pandas as pd\n",
    "\n",
    "df = pd.read_csv('collegedataset.txt', sep='\\t', lineterminator='\\n',header = None)\n",
    "size = len(df)"
   ]
  },
  {
   "cell_type": "code",
   "execution_count": 49,
   "metadata": {},
   "outputs": [],
   "source": [
    "df.columns = ['v1', 'v2', 'timestamp']"
   ]
  },
  {
   "cell_type": "code",
   "execution_count": 50,
   "metadata": {},
   "outputs": [],
   "source": [
    "df1 = df.head(3*size // 4)"
   ]
  },
  {
   "cell_type": "code",
   "execution_count": 51,
   "metadata": {},
   "outputs": [],
   "source": [
    "df2 = df.tail(1*size // 4 + 1)"
   ]
  },
  {
   "cell_type": "code",
   "execution_count": 52,
   "metadata": {},
   "outputs": [],
   "source": [
    "from collections import defaultdict\n",
    "all_connections = defaultdict(list)\n",
    "for index, row in df1.iterrows():\n",
    "        all_connections[row[\"v1\"]].append((row[\"v2\"], row[\"timestamp\"]))"
   ]
  },
  {
   "cell_type": "code",
   "execution_count": 53,
   "metadata": {},
   "outputs": [],
   "source": [
    "all_connections_test = defaultdict(list)\n",
    "for index, row in df2.iterrows():\n",
    "    if row[\"v1\"] not in all_connections:\n",
    "        all_connections_test[row[\"v1\"]].append((row[\"v2\"], row[\"timestamp\"]))\n",
    "    else:\n",
    "        all_connections[row[\"v1\"]].append((row[\"v2\"], row[\"timestamp\"]))"
   ]
  },
  {
   "cell_type": "code",
   "execution_count": 78,
   "metadata": {},
   "outputs": [],
   "source": [
    "cold_dict = defaultdict(list)\n",
    "for index, row in df1.iterrows():\n",
    "    cold_dict[row[\"v2\"]].append((row[\"v1\"], row[\"timestamp\"]))"
   ]
  },
  {
   "cell_type": "code",
   "execution_count": 80,
   "metadata": {},
   "outputs": [
    {
     "name": "stdout",
     "output_type": "stream",
     "text": [
      "6.993944715503614\n",
      "1.631617995710777\n",
      "0.4207920792079208\n"
     ]
    }
   ],
   "source": [
    "from random import sample\n",
    "j_hyp = 0.0\n",
    "j_rand = 0.0\n",
    "conn_avg = 0.0\n",
    "# key is the cold start node in question\n",
    "for key in all_connections_test:\n",
    "    try:\n",
    "        #val is the first node it connects with (the list in all_connections_test is sorted by timestamp)\n",
    "        val = all_connections_test[key][0][0]\n",
    "    except:\n",
    "        continue\n",
    "    #the list of nodes key actually connects with after cold starting\n",
    "    ground_truth = [elem[0] for elem in all_connections_test[key]]\n",
    "    try:\n",
    "        # for the last thing that cold started with val, what else did it connect with?\n",
    "        hyp = [elem[0] for elem in all_connections[cold_dict[val][-1][0]]]\n",
    "    except:\n",
    "        continue\n",
    "    #print(ground_truth , hyp)\n",
    "    l = lambda x, y : x if x < y else y\n",
    "#     conn_avg += (len(hyp) / len(all_connections[val]))\n",
    "    if len(hyp) > len(all_connections[val]):\n",
    "        conn_avg+=1\n",
    "    rand = sample([elem[0] for elem in all_connections[val]], l(len(hyp),len(all_connections[val])))\n",
    "    j_hyp+= jaccard_similarity(ground_truth, hyp)\n",
    "    j_rand+= jaccard_similarity(ground_truth, rand)\n",
    "    \n",
    "print(j_hyp)\n",
    "print(j_rand)\n",
    "print(conn_avg / len(all_connections_test.keys()))"
   ]
  },
  {
   "cell_type": "code",
   "execution_count": 44,
   "metadata": {
    "scrolled": false
   },
   "outputs": [
    {
     "data": {
      "text/plain": [
       "set()"
      ]
     },
     "execution_count": 44,
     "metadata": {},
     "output_type": "execute_result"
    }
   ],
   "source": [
    "set(all_connections_test.keys()).intersection(set(all_connections.keys()))"
   ]
  },
  {
   "cell_type": "code",
   "execution_count": 26,
   "metadata": {},
   "outputs": [],
   "source": [
    "def jaccard_similarity(list1, list2):\n",
    "    intersection = len(list(set(list1).intersection(set(list2))))\n",
    "    union = (len(set(list1)) + len(set(list2))) - intersection\n",
    "    return float(intersection / union)"
   ]
  },
  {
   "cell_type": "code",
   "execution_count": 27,
   "metadata": {},
   "outputs": [
    {
     "data": {
      "text/plain": [
       "{1282: [],\n",
       " 1561: [],\n",
       " 286: [221,\n",
       "  221,\n",
       "  34,\n",
       "  34,\n",
       "  34,\n",
       "  221,\n",
       "  367,\n",
       "  202,\n",
       "  202,\n",
       "  202,\n",
       "  416,\n",
       "  468,\n",
       "  549,\n",
       "  400,\n",
       "  400,\n",
       "  400,\n",
       "  400,\n",
       "  339,\n",
       "  400,\n",
       "  991,\n",
       "  991,\n",
       "  400,\n",
       "  1000],\n",
       " 1896: []}"
      ]
     },
     "execution_count": 27,
     "metadata": {},
     "output_type": "execute_result"
    }
   ],
   "source": [
    "final"
   ]
  },
  {
   "cell_type": "code",
   "execution_count": 28,
   "metadata": {},
   "outputs": [],
   "source": [
    "listofedges = []\n",
    "for inner,innerrow in df2.iterrows():\n",
    "        if(innerrow['v1'] == check):\n",
    "            listofedges.append(innerrow['v2'])"
   ]
  },
  {
   "cell_type": "code",
   "execution_count": 29,
   "metadata": {},
   "outputs": [
    {
     "data": {
      "text/plain": [
       "[221,\n",
       " 1542,\n",
       " 221,\n",
       " 1542,\n",
       " 1542,\n",
       " 1601,\n",
       " 1542,\n",
       " 1601,\n",
       " 1189,\n",
       " 1189,\n",
       " 1647,\n",
       " 1647,\n",
       " 848,\n",
       " 1647,\n",
       " 1713,\n",
       " 1713,\n",
       " 1713,\n",
       " 1713,\n",
       " 1713,\n",
       " 1713,\n",
       " 1647,\n",
       " 1647,\n",
       " 1741,\n",
       " 1543,\n",
       " 1543,\n",
       " 1543,\n",
       " 1543,\n",
       " 1773,\n",
       " 1773]"
      ]
     },
     "execution_count": 29,
     "metadata": {},
     "output_type": "execute_result"
    }
   ],
   "source": [
    "listofedges"
   ]
  },
  {
   "cell_type": "code",
   "execution_count": 30,
   "metadata": {},
   "outputs": [
    {
     "name": "stdout",
     "output_type": "stream",
     "text": [
      "0.0\n",
      "0.0\n",
      "0.05\n",
      "0.0\n"
     ]
    }
   ],
   "source": [
    "for key in final.keys():\n",
    "    sim = jaccard_similarity(final[key],listofedges)\n",
    "    print(sim)"
   ]
  },
  {
   "cell_type": "code",
   "execution_count": 31,
   "metadata": {},
   "outputs": [
    {
     "data": {
      "text/plain": [
       "0.0"
      ]
     },
     "execution_count": 31,
     "metadata": {},
     "output_type": "execute_result"
    }
   ],
   "source": [
    "sim"
   ]
  },
  {
   "cell_type": "code",
   "execution_count": null,
   "metadata": {},
   "outputs": [],
   "source": []
  }
 ],
 "metadata": {
  "kernelspec": {
   "display_name": "Python 3",
   "language": "python",
   "name": "python3"
  },
  "language_info": {
   "codemirror_mode": {
    "name": "ipython",
    "version": 3
   },
   "file_extension": ".py",
   "mimetype": "text/x-python",
   "name": "python",
   "nbconvert_exporter": "python",
   "pygments_lexer": "ipython3",
   "version": "3.7.0"
  }
 },
 "nbformat": 4,
 "nbformat_minor": 2
}
